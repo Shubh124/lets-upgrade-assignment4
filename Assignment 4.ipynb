{
 "cells": [
  {
   "cell_type": "code",
   "execution_count": 18,
   "metadata": {},
   "outputs": [],
   "source": [
    " # I am using a small range of number because the laptop hangs if I use the range given in the question. \n",
    "# The code is suitable to run for any range."
   ]
  },
  {
   "cell_type": "code",
   "execution_count": 59,
   "metadata": {},
   "outputs": [
    {
     "name": "stdout",
     "output_type": "stream",
     "text": [
      "(153, 'is the first Armstrong number between 2 and 200')\n"
     ]
    }
   ],
   "source": [
    "for i in range(2,201):\n",
    "    a = 0\n",
    "    j = i\n",
    "    while j > 0:\n",
    "        x = j % 10\n",
    "        a = a + x*x*x\n",
    "        j =j/10\n",
    "    if i == a:\n",
    "        print(i,\"is the first Armstrong number between 2 and 200\")\n",
    "        break\n",
    "    \n",
    "    "
   ]
  },
  {
   "cell_type": "code",
   "execution_count": null,
   "metadata": {},
   "outputs": [],
   "source": []
  }
 ],
 "metadata": {
  "kernelspec": {
   "display_name": "Python 2",
   "language": "python",
   "name": "python2"
  },
  "language_info": {
   "codemirror_mode": {
    "name": "ipython",
    "version": 2
   },
   "file_extension": ".py",
   "mimetype": "text/x-python",
   "name": "python",
   "nbconvert_exporter": "python",
   "pygments_lexer": "ipython2",
   "version": "2.7.15"
  }
 },
 "nbformat": 4,
 "nbformat_minor": 2
}
